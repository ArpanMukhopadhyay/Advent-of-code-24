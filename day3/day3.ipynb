{
 "cells": [
  {
   "cell_type": "code",
   "execution_count": 28,
   "metadata": {},
   "outputs": [],
   "source": [
    "import numpy as np\n",
    "import pandas as pd\n",
    "import re"
   ]
  },
  {
   "cell_type": "code",
   "execution_count": null,
   "metadata": {},
   "outputs": [
    {
     "name": "stdout",
     "output_type": "stream",
     "text": [
      "165225049\n"
     ]
    }
   ],
   "source": [
    "with open ('input-5.txt') as f:\n",
    "    text = f.read()\n",
    "    # text = np.array(text)\n",
    "    # text = np.array(text.splitlines())\n",
    "\n",
    "text\n",
    "\n",
    "pattern = re.compile(r\"mul\\(\\d{1,3},\\d{1,3}\\)\")\n",
    "\n",
    "matches = re.findall(pattern ,text)\n",
    "res = 0\n",
    "for n in matches:\n",
    "    vals = n[4:-1]\n",
    "    a,b = vals.split(',')\n",
    "    res += int(a) * int(b)\n",
    "\n",
    "print(res)"
   ]
  },
  {
   "cell_type": "code",
   "execution_count": null,
   "metadata": {},
   "outputs": [
    {
     "name": "stdout",
     "output_type": "stream",
     "text": [
      "108830766\n"
     ]
    }
   ],
   "source": [
    "pattern2 = re.compile(r\"don't\\(\\)|do\\(\\)|mul\\(\\d{1,3},\\d{1,3}\\)\")\n",
    "\n",
    "matches = re.findall(pattern2, text)\n",
    "\n",
    "res = 0\n",
    "work = True\n",
    "for m in matches:\n",
    "    if m == \"don't()\":\n",
    "        work = False\n",
    "        continue\n",
    "    elif m == \"do()\":\n",
    "        work = True\n",
    "        continue\n",
    "    \n",
    "    if work:\n",
    "        vals = m[4:-1]\n",
    "        a,b = vals.split(',')\n",
    "        res += int(a) * int(b)\n",
    "\n",
    "print(res)\n"
   ]
  },
  {
   "cell_type": "code",
   "execution_count": null,
   "metadata": {},
   "outputs": [],
   "source": []
  }
 ],
 "metadata": {
  "kernelspec": {
   "display_name": "myenv",
   "language": "python",
   "name": "python3"
  },
  "language_info": {
   "codemirror_mode": {
    "name": "ipython",
    "version": 3
   },
   "file_extension": ".py",
   "mimetype": "text/x-python",
   "name": "python",
   "nbconvert_exporter": "python",
   "pygments_lexer": "ipython3",
   "version": "3.10.13"
  }
 },
 "nbformat": 4,
 "nbformat_minor": 2
}
