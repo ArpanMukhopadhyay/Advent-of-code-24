{
 "cells": [
  {
   "cell_type": "code",
   "execution_count": 5,
   "metadata": {},
   "outputs": [],
   "source": [
    "import numpy as np\n",
    "import pandas as pd"
   ]
  },
  {
   "cell_type": "code",
   "execution_count": null,
   "metadata": {},
   "outputs": [
    {
     "name": "stdout",
     "output_type": "stream",
     "text": [
      "3569916\n"
     ]
    }
   ],
   "source": [
    "#BRUTE FORCE\n",
    "with open('input-2.txt','r') as f:\n",
    "    text = f.read()\n",
    "\n",
    "text = text.splitlines()\n",
    "\n",
    "arr1 = []\n",
    "arr2 = []\n",
    "for i in range(len(text)):\n",
    "    text[i] = text[i].split()\n",
    "    arr1.append(int(text[i][0]))\n",
    "    arr2.append(int(text[i][1]))\n",
    "\n",
    "res = 0\n",
    "for a,b in zip(sorted(arr1),sorted(arr2)):\n",
    "    res += abs(a-b)\n",
    "\n",
    "print(res)\n"
   ]
  },
  {
   "cell_type": "code",
   "execution_count": null,
   "metadata": {},
   "outputs": [
    {
     "name": "stdout",
     "output_type": "stream",
     "text": [
      "3569916\n"
     ]
    }
   ],
   "source": [
    "#numpy vecorisation\n",
    "\n",
    "ds = np.loadtxt('input-2.txt')\n",
    "\n",
    "col1 = ds[:, 0].astype(int)\n",
    "col2 = ds[:, 1].astype(int)\n",
    "\n",
    "col1.sort()\n",
    "col2.sort()\n",
    "\n",
    "print(sum(abs(col1 - col2)))\n"
   ]
  },
  {
   "cell_type": "code",
   "execution_count": 82,
   "metadata": {},
   "outputs": [
    {
     "name": "stdout",
     "output_type": "stream",
     "text": [
      "3569916\n"
     ]
    }
   ],
   "source": [
    "#numpy cleaner\n",
    "\n",
    "ds = np.loadtxt('input-2.txt', dtype=int)\n",
    "ds.sort(axis=0)\n",
    "\n",
    "res = np.sum(np.abs(ds[:,0] - ds[:,1]))\n",
    "\n",
    "print(res)"
   ]
  },
  {
   "cell_type": "code",
   "execution_count": null,
   "metadata": {},
   "outputs": [
    {
     "name": "stdout",
     "output_type": "stream",
     "text": [
      "26407426\n"
     ]
    }
   ],
   "source": [
    "#PART 2\n",
    "from collections import Counter\n",
    "\n",
    "occurances = Counter(col2)\n",
    "res = 0\n",
    "for n in col1:\n",
    "    res += (n * occurances[n])\n",
    "\n",
    "print(res)"
   ]
  },
  {
   "cell_type": "code",
   "execution_count": null,
   "metadata": {},
   "outputs": [],
   "source": []
  }
 ],
 "metadata": {
  "kernelspec": {
   "display_name": "myenv",
   "language": "python",
   "name": "python3"
  },
  "language_info": {
   "codemirror_mode": {
    "name": "ipython",
    "version": 3
   },
   "file_extension": ".py",
   "mimetype": "text/x-python",
   "name": "python",
   "nbconvert_exporter": "python",
   "pygments_lexer": "ipython3",
   "version": "3.10.13"
  }
 },
 "nbformat": 4,
 "nbformat_minor": 2
}
